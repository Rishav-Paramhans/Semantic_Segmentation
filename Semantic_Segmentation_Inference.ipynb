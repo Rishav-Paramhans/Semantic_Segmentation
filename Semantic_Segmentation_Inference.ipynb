{
 "cells": [
  {
   "cell_type": "code",
   "execution_count": 1,
   "id": "ee8281c7",
   "metadata": {},
   "outputs": [],
   "source": [
    "import torch\n",
    "#import albumentations as A\n",
    "#from albumentations.pytorch import ToTensorV2\n",
    "from tqdm import tqdm\n",
    "import torch.nn as nn\n",
    "import torch.optim as optim\n",
    "from model import UNET\n",
    "from utils import (\n",
    "    load_checkpoint,\n",
    "    get_loaders,\n",
    "    check_accuracy,\n",
    "    save_predictions_as_imgs,\n",
    "    mean_IOU_score,\n",
    "    mean_dice_score\n",
    ")\n",
    "import os\n",
    "from torch.utils.tensorboard import SummaryWriter\n",
    "import numpy as np\n",
    "import pandas as pd\n",
    "import torchvision.transforms as T\n",
    "from PIL import Image\n",
    "import cv2\n",
    "import matplotlib.pyplot as plt"
   ]
  },
  {
   "cell_type": "code",
   "execution_count": 2,
   "id": "0fee6ae9",
   "metadata": {},
   "outputs": [],
   "source": [
    "# Hyperparameters etc.\n",
    "LEARNING_RATE = 1e-4\n",
    "DEVICE = \"cuda:3\"\n",
    "BATCH_SIZE =1\n",
    "NUM_EPOCHS = 150\n",
    "NUM_WORKERS = 0\n",
    "IMAGE_HEIGHT = 608# 1280 originally\n",
    "IMAGE_WIDTH = 960  # 1920 originally\n",
    "PIN_MEMORY = True\n",
    "LOAD_MODEL = False\n",
    "IMG_DIR = r\"E:\\Thesis-Rishav\\A2D2_dataset\\images\"    #Have to set this\n",
    "MASK_DIR = r\"E:\\Thesis-Rishav\\A2D2_dataset\\seg_label\"\n",
    "TRAIN_CSV_FILE= r\"E:\\Thesis-Rishav\\A2D2_dataset\\train.csv\"\n",
    "TEST_CSV_FILE= r\"E:\\Thesis-Rishav\\A2D2_dataset\\test.csv\"\n",
    "#WRITER = True  # Controlling the tensorboard"
   ]
  },
  {
   "cell_type": "code",
   "execution_count": null,
   "id": "52ebe15b",
   "metadata": {},
   "outputs": [],
   "source": []
  },
  {
   "cell_type": "code",
   "execution_count": 62,
   "id": "806186ee",
   "metadata": {},
   "outputs": [],
   "source": [
    "\n",
    "def visualize_result(preds, batch_idx):\n",
    "    transform= T.ToPILImage()\n",
    "    preds = torch.softmax(preds, dim=1)\n",
    "    preds = torch.argmax(preds, dim=1)\n",
    "    preds= (preds.float())*12\n",
    "    #print(class_mask)\n",
    "    img= transform(preds).convert('RGB')\n",
    "    #img= cv2.UMat(img)\n",
    "    image_name= r'E:\\Thesis-Rishav\\Baselines\\Semantic_Segmentation\\saved_images\\Image_{}.png'.format(batch_idx)\n",
    "    #print('result_saved')\n",
    "    img.save(image_name)\n",
    "    \n",
    "def visualize_target(targets, batch_idx):\n",
    "    transform= T.ToPILImage()\n",
    "    targets= (targets.float())*12\n",
    "    #print(class_mask)\n",
    "    img= transform(targets).convert('RGB')\n",
    "    #img= cv2.UMat(img)\n",
    "    image_name= r'E:\\Thesis-Rishav\\Baselines\\Semantic_Segmentation\\saved_targets\\Image_{}.png'.format(batch_idx)\n",
    "    img.save(image_name)\n",
    "    #print('result_saved')   \n",
    "def inference_fn(test_loader,model, loss_fn, scaler):\n",
    "    loop = tqdm(test_loader)\n",
    "    mean_loss=[]\n",
    "    IOU_score= []\n",
    "    Dice_score = []\n",
    "    model.eval()\n",
    "    for batch_idx, (data, targets) in enumerate(loop):\n",
    "        transform= T.ToPILImage()\n",
    "        image= transform(np.squeeze(data)).convert('RGB')\n",
    "        image_name= r'E:\\Thesis-Rishav\\Baselines\\Semantic_Segmentation\\input_images\\Image_{}.png'.format(batch_idx)\n",
    "        image.save(image_name)\n",
    "        data = data.to(device=DEVICE)\n",
    "\n",
    "        visualize_target(targets, batch_idx)\n",
    "        targets = targets.long().to(device=DEVICE)\n",
    "        \n",
    "        #targets = targets.long()\n",
    "        #print(type(targets))\n",
    "        #pop= (targets.float())*12\n",
    "        #visualize_result(pop)\n",
    "        #print(data.shape)\n",
    "        #print(targets.shape)\n",
    "        with torch.no_grad():\n",
    "            predictions = model(data.float())\n",
    "\n",
    "            iou_score=  mean_IOU_score(predictions, targets )\n",
    "\n",
    "            dice_score= mean_dice_score(predictions, targets )\n",
    "            accuracy=check_accuracy(predictions, targets,model)\n",
    "            IOU_score.append(iou_score)\n",
    "            Dice_score.append(dice_score)\n",
    "            visualize_result(predictions,batch_idx)\n",
    "        #loop.set_postfix(loss=loss.item())\n",
    "    #mean_loss_value = sum(mean_loss) / len(mean_loss)\n",
    "    mean_IOU= sum(IOU_score)/len(IOU_score)\n",
    "    mean_DICE= sum(Dice_score)/len(Dice_score)\n",
    "    model.train()\n",
    "   \n",
    "    return  mean_IOU, mean_DICE\n",
    "\n",
    "\n",
    "\n",
    "    "
   ]
  },
  {
   "cell_type": "code",
   "execution_count": 65,
   "id": "4783bb12",
   "metadata": {},
   "outputs": [],
   "source": [
    "import albumentations as A\n",
    "from albumentations.pytorch import ToTensorV2\n",
    "test_transform = A.Compose(\n",
    "    [\n",
    "        A.Resize(height=IMAGE_HEIGHT, width=IMAGE_WIDTH),\n",
    "\n",
    "        ToTensorV2(),\n",
    "    ],\n",
    ")\n",
    "\n",
    "\n",
    "model = UNET(in_channels=3, out_channels=22).to(DEVICE)\n",
    "model.load_state_dict(torch.load(r\"E:\\Thesis-Rishav\\Baselines\\Semantic_Segmentation\\Trained_parameters\\model_60.pth\"))\n",
    "loss_fn= nn.CrossEntropyLoss()\n",
    "\n",
    "test_loader = get_loaders(\n",
    "        IMG_DIR,\n",
    "        MASK_DIR,\n",
    "        TEST_CSV_FILE,\n",
    "        BATCH_SIZE,\n",
    "        NUM_WORKERS,\n",
    "        PIN_MEMORY,\n",
    "        transform= test_transform\n",
    "    )\n",
    "\n",
    "scaler = torch.cuda.amp.GradScaler()"
   ]
  },
  {
   "cell_type": "code",
   "execution_count": null,
   "id": "147fa90d",
   "metadata": {},
   "outputs": [],
   "source": []
  },
  {
   "cell_type": "code",
   "execution_count": 66,
   "id": "3f82aa19",
   "metadata": {},
   "outputs": [
    {
     "name": "stderr",
     "output_type": "stream",
     "text": [
      "100%|██████████████████████████████████████████████████████████████████████████████████████████████████████████████████████████████████████████████████████████████████████████████████████████| 2728/2728 [46:05<00:00,  1.01s/it]\n"
     ]
    }
   ],
   "source": [
    "mean_IOU, mean_DICE= inference_fn(test_loader, model,loss_fn, scaler)\n"
   ]
  },
  {
   "cell_type": "code",
   "execution_count": 67,
   "id": "3abe0c3a",
   "metadata": {},
   "outputs": [
    {
     "name": "stdout",
     "output_type": "stream",
     "text": [
      "[0.8026299  0.4600761  0.38752896 0.3430002  0.67108628 0.6877569\n",
      " 0.46200335 0.7585434  1.         0.92890762 0.58300243 0.38274481\n",
      " 0.92965755 0.17415645 0.33960791 0.8118996  0.38615553 0.50660771\n",
      " 0.51169588 0.93097461 0.64152301 0.25421066]\n",
      "tensor([0.8606, 0.4982, 0.4395, 0.3873, 0.6777, 0.7270, 0.5770, 0.7823, 1.0000,\n",
      "        0.9615, 0.5935, 0.5218, 0.9297, 0.2281, 0.4474, 0.8675, 0.4203, 0.6026,\n",
      "        0.5259, 0.9506, 0.7242, 0.3618])\n"
     ]
    }
   ],
   "source": [
    "\n",
    "print(mean_IOU)\n",
    "print(mean_DICE)"
   ]
  },
  {
   "cell_type": "code",
   "execution_count": 68,
   "id": "966a1dc6",
   "metadata": {},
   "outputs": [],
   "source": [
    "test_mIOU= sum(mean_IOU)/len(mean_IOU)\n",
    "test_DICE= sum(mean_DICE)/len(mean_DICE)"
   ]
  },
  {
   "cell_type": "code",
   "execution_count": 69,
   "id": "3ad79f1e",
   "metadata": {},
   "outputs": [
    {
     "name": "stdout",
     "output_type": "stream",
     "text": [
      "0.5888076756002929\n",
      "tensor(0.6402)\n"
     ]
    }
   ],
   "source": [
    "print(test_mIOU)\n",
    "print(test_DICE)"
   ]
  },
  {
   "cell_type": "code",
   "execution_count": null,
   "id": "9a3a0163",
   "metadata": {},
   "outputs": [],
   "source": []
  }
 ],
 "metadata": {
  "kernelspec": {
   "display_name": "Python 3 (ipykernel)",
   "language": "python",
   "name": "python3"
  },
  "language_info": {
   "codemirror_mode": {
    "name": "ipython",
    "version": 3
   },
   "file_extension": ".py",
   "mimetype": "text/x-python",
   "name": "python",
   "nbconvert_exporter": "python",
   "pygments_lexer": "ipython3",
   "version": "3.10.10"
  }
 },
 "nbformat": 4,
 "nbformat_minor": 5
}
